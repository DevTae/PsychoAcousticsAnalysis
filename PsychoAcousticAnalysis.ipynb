{
 "cells": [
  {
   "cell_type": "code",
   "execution_count": null,
   "id": "d82809a0",
   "metadata": {},
   "outputs": [],
   "source": [
    "# 기술 출처 : owards Context-aware Automatic Haptic Effect Generation for Home Theatre Environments"
   ]
  },
  {
   "cell_type": "code",
   "execution_count": null,
   "id": "9c078ac6",
   "metadata": {},
   "outputs": [],
   "source": []
  }
 ],
 "metadata": {
  "kernelspec": {
   "display_name": "Python 3 (ipykernel)",
   "language": "python",
   "name": "python3"
  },
  "language_info": {
   "codemirror_mode": {
    "name": "ipython",
    "version": 3
   },
   "file_extension": ".py",
   "mimetype": "text/x-python",
   "name": "python",
   "nbconvert_exporter": "python",
   "pygments_lexer": "ipython3",
   "version": "3.9.7"
  }
 },
 "nbformat": 4,
 "nbformat_minor": 5
}
